{
 "cells": [
  {
   "cell_type": "code",
   "execution_count": 121,
   "source": [
    "import jax\n",
    "import jax.numpy as jnp\n",
    "import numpy as np\n",
    "import matplotlib.pyplot as plt\n",
    "\n",
    "\n",
    "solver_name = \"EKF1_2\"\n",
    "problem_name = \"samples_from_prior_FHN\"\n",
    "prefix = f\"{solver_name}_{problem_name}\"\n",
    "folder = \"./\"\n",
    "\n",
    "delta = 1 / 9\n",
    "fineN = int(1 / delta)\n",
    "T = 1/3\n",
    "N = int(T / delta)\n",
    "no_samples = 100\n",
    "\n",
    "sampled_sols = jnp.load(f'{folder}/{prefix}_sampled_sols_{N}_1.npy')\n",
    "sampled_sols=jnp.insert(sampled_sols, 0, jnp.zeros((2, )), axis=1)\n",
    "euler_parabola_ode_sols=jnp.load(f'{folder}/{prefix}_pathwise_sols4_parabola_ode_{N}_{fineN}.npy')\n",
    "fine_em = jnp.load(f'{folder}/{prefix}_pathwise_sols2_{N}_{fineN}.npy')\n",
    "low_res_em = jnp.load(f'{folder}/{prefix}_pathwise_sols3_{N}_{fineN}.npy')\n",
    "mean = jnp.load(f'{folder}/{prefix}_mean_pn_{N}_1.npy')\n",
    "var = jnp.load(f'{folder}/{prefix}_var_pn_{N}_1.npy')\n",
    "mean = jnp.insert(mean, 0, jnp.zeros((2, )), axis=0)\n",
    "var = jnp.insert(var, 0, jnp.zeros((2, 2)), axis=0)\n",
    "\n",
    "from functools import partial\n",
    "@np.vectorize\n",
    "def parabola(t):\n",
    "    k = int(t/delta)\n",
    "    u = t/delta - k\n",
    "    w = brownian[0]\n",
    "    dw = incs[0]\n",
    "    i = parabola_coeffs[0]\n",
    "    a = dw[k]\n",
    "    b = i[k]\n",
    "    c = w[k]\n",
    "    para = c + a * u + b * jnp.sqrt(6) * u * (1 - u)\n",
    "    dpara = a + b * jnp.sqrt(6)* (1/delta - 2 * u/delta)\n",
    "    return para, dpara"
   ],
   "metadata": {
    "collapsed": false
   },
   "outputs": []
  },
  {
   "cell_type": "markdown",
   "source": [],
   "metadata": {
    "collapsed": false
   }
  },
  {
   "cell_type": "code",
   "execution_count": 122,
   "source": [
    "idx = 1\n",
    "ts = jnp.linspace(0, T, int(N)+1)\n",
    "fine_ts = jnp.linspace(0, T, int(N*fineN)+1)\n",
    "plt.plot(fine_ts, fine_em[:,idx], label=\"fine_em\")\n",
    "plt.plot(ts, low_res_em[:,idx], label=\"em\")\n",
    "plt.plot(ts, euler_parabola_ode_sols[:,idx], label=\"euler_parabola_ode\")\n",
    "\n",
    "for i in range(5):\n",
    "    plt.plot(ts, sampled_sols[i, :, idx], alpha=1)\n",
    "    for _idx in range(2):\n",
    "        np.savetxt(f'{prefix}_sampled_sols_{i}_{_idx}.csv', jnp.array([ts, sampled_sols[i, :, _idx]]).T,\n",
    "                    delimiter=',', header='t,path', comments=\"\")\n",
    "        np.savetxt(f'{prefix}_sampled_sols_{i}_{_idx}.csv', jnp.array([ts, sampled_sols[i, :, _idx]]).T\n",
    "                 , delimiter=',', header='t,path', comments=\"\")\n",
    "        np.savetxt(f'{prefix}_fine_em_sol_{_idx}.csv', jnp.array([fine_ts, fine_em[:, _idx]]).T,\n",
    "                    delimiter=',', header='t,path', comments=\"\"\n",
    "                   )\n",
    "        np.savetxt(f'{prefix}_low_res_em_sol_{_idx}.csv', jnp.array([ts, low_res_em[:, _idx]]).T,\n",
    "                    delimiter=',', header='t,path', comments=\"\")\n",
    "\n",
    "plt.legend()"
   ],
   "metadata": {
    "collapsed": false
   },
   "outputs": []
  },
  {
   "cell_type": "code",
   "execution_count": 123,
   "source": [
    "euler_parabola_ode_sols.shape"
   ],
   "metadata": {
    "collapsed": false
   },
   "outputs": []
  },
  {
   "cell_type": "code",
   "execution_count": 124,
   "source": [
    "fine_incs = jnp.load(f'{folder}/{prefix}_fine_incs_{N}_{fineN}.npy')\n",
    "brownian_fine = jnp.cumsum(fine_incs, axis=1)\n",
    "brownian_fine = jnp.insert(brownian_fine, 0, jnp.zeros((1, )), axis=1)\n",
    "incs = jnp.load(f'{folder}/{prefix}_incs_{N}_{fineN}.npy')\n",
    "brownian = jnp.cumsum(incs, axis=1)\n",
    "brownian = jnp.insert(brownian, 0, jnp.zeros((1, )), axis=1)\n",
    "parabola_coeffs = jnp.load(f'{folder}/{prefix}_parabola_coeffs_{N}_{fineN}.npy')"
   ],
   "metadata": {
    "collapsed": false
   },
   "outputs": []
  },
  {
   "cell_type": "code",
   "execution_count": 89,
   "source": [
    "jax.grad(parabola)(0.5)"
   ],
   "metadata": {
    "collapsed": false
   },
   "outputs": []
  },
  {
   "cell_type": "code",
   "execution_count": 131,
   "source": [
    "\n",
    "ts = jnp.linspace(0, T, int(N)+1)\n",
    "fine_ts = jnp.linspace(0, T, int(N*fineN)+1)\n",
    "plt.plot(fine_ts, brownian_fine[0])\n",
    "plt.plot(ts, brownian[0])\n",
    "para_traj, dpara_traj = parabola(fine_ts)\n",
    "plt.plot(fine_ts, para_traj)\n",
    "brownian_fine_reshaped = brownian_fine[0].reshape(-1, )\n",
    "brownian_reshaped = brownian[0].reshape(-1, )\n",
    "np.savetxt(f'para_traj.csv', jnp.array([fine_ts, para_traj]).T\n",
    "                 , delimiter=',', header='t,path', comments=\"\")\n",
    "\n",
    "np.savetxt(f'brownian_fine.csv', jnp.array([fine_ts, brownian_fine_reshaped]).T\n",
    "                 , delimiter=',', header='t,path', comments=\"\")\n",
    "np.savetxt(f'brownian.csv', jnp.array([ts, brownian_reshaped]).T\n",
    "                 , delimiter=',', header='t,path', comments=\"\")\n",
    "plt.plot(fine_ts, dpara_traj)"
   ],
   "metadata": {
    "collapsed": false
   },
   "outputs": []
  },
  {
   "cell_type": "code",
   "execution_count": 132,
   "source": [
    "dpara_traj"
   ],
   "metadata": {
    "collapsed": false
   },
   "outputs": []
  },
  {
   "cell_type": "code",
   "execution_count": 130,
   "source": "",
   "metadata": {
    "collapsed": false
   },
   "outputs": []
  },
  {
   "cell_type": "markdown",
   "source": [],
   "metadata": {
    "collapsed": false
   }
  },
  {
   "cell_type": "code",
   "execution_count": null,
   "source": [],
   "metadata": {
    "collapsed": false
   },
   "outputs": []
  }
 ],
 "metadata": {
  "kernelspec": {
   "display_name": "Python 3",
   "language": "python",
   "name": "python3"
  },
  "language_info": {
   "codemirror_mode": {
    "name": "ipython",
    "version": 2
   },
   "file_extension": ".py",
   "mimetype": "text/x-python",
   "name": "python",
   "nbconvert_exporter": "python",
   "pygments_lexer": "ipython2",
   "version": "2.7.6"
  }
 },
 "nbformat": 4,
 "nbformat_minor": 0
}

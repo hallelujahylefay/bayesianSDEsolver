{
 "cells": [
  {
   "cell_type": "code",
   "execution_count": null,
   "outputs": [],
   "source": [
    "import jax.numpy as jnp\n",
    "\n",
    "import matplotlib.pyplot as plt\n",
    "\n",
    "\n",
    "solver_name = \"EKF1_2\"\n",
    "problem_name = \"samples_from_prior_FHN\"\n",
    "prefix = f\"{solver_name}_{problem_name}\"\n",
    "folder = \"./\"\n",
    "\n",
    "delta = 1 / 128\n",
    "N = 1 / delta\n",
    "fineN = N ** 1.0\n",
    "T = 1.0\n",
    "N = T / delta\n",
    "no_samples = 100\n",
    "\n",
    "sampled_sols = jnp.load(f'{folder}/{prefix}_sampled_sols_{int(N)}_1.npy')\n",
    "sampled_sols=jnp.insert(sampled_sols, 0, jnp.zeros((2, )), axis=1)\n",
    "fine_em = jnp.load(f'{folder}/{prefix}_pathwise_sols2_{int(N)}_{int(fineN)}.npy')\n",
    "low_res_em = jnp.load(f'{folder}/{prefix}_pathwise_sols3_{int(N)}_{int(fineN)}.npy')\n",
    "mean = jnp.load(f'{folder}/{prefix}_mean_pn_{int(N)}_1.npy')\n",
    "var = jnp.load(f'{folder}/{prefix}_var_pn_{int(N)}_1.npy')\n",
    "mean = jnp.insert(mean, 0, jnp.zeros((2, )), axis=0)\n",
    "var = jnp.insert(var, 0, jnp.zeros((2, 2)), axis=0)"
   ],
   "metadata": {
    "collapsed": false
   }
  },
  {
   "cell_type": "code",
   "execution_count": null,
   "outputs": [],
   "source": [
    "ts = jnp.linspace(0, 1, int(N)+1)\n",
    "fine_ts = jnp.linspace(0, 1, int(N*fineN)+1)\n",
    "plt.plot(fine_ts, fine_em[:,0], label=\"fine_em\")\n",
    "plt.plot(ts, low_res_em[:,0], label=\"em\")\n",
    "for i in range(100):\n",
    "    plt.plot(ts, sampled_sols[i, :, 0], alpha=0.1)\n",
    "plt.legend()"
   ],
   "metadata": {
    "collapsed": false
   }
  },
  {
   "cell_type": "code",
   "execution_count": null,
   "outputs": [],
   "source": [
    "plt.plot(ts, mean[:,0], label=\"ekf mean\")\n",
    "plt.plot(ts, mean[:,0]+var[:,0,0]**0.5*1.96, alpha=0.1)\n",
    "plt.plot(ts, mean[:,0]-var[:,0,0]**0.5*1.96, alpha=0.1)\n",
    "plt.plot(ts, low_res_em[:,0], label=\"em\")\n",
    "plt.plot(fine_ts, fine_em[:,0], label=\"fine\")\n",
    "plt.legend()"
   ],
   "metadata": {
    "collapsed": false
   }
  },
  {
   "cell_type": "code",
   "execution_count": null,
   "outputs": [],
   "source": [
    "ts = jnp.linspace(0, 1, int(N)+1)\n",
    "fine_ts = jnp.linspace(0, 1, int(N*fineN)+1)\n",
    "plt.plot(fine_ts, fine_em[:,1], label=\"fine_em\")\n",
    "plt.plot(ts, low_res_em[:,1], label=\"em\")\n",
    "for i in range(100):\n",
    "    plt.plot(ts, sampled_sols[i, :, 1], alpha=0.1)\n",
    "plt.legend()"
   ],
   "metadata": {
    "collapsed": false
   }
  }
 ],
 "metadata": {
  "kernelspec": {
   "display_name": "Python 3",
   "language": "python",
   "name": "python3"
  },
  "language_info": {
   "codemirror_mode": {
    "name": "ipython",
    "version": 2
   },
   "file_extension": ".py",
   "mimetype": "text/x-python",
   "name": "python",
   "nbconvert_exporter": "python",
   "pygments_lexer": "ipython2",
   "version": "2.7.6"
  }
 },
 "nbformat": 4,
 "nbformat_minor": 0
}

{
 "cells": [
  {
   "cell_type": "code",
   "execution_count": null,
   "id": "dc1a60df-5b5b-408b-be2d-8c0a3940cc05",
   "metadata": {
    "ExecuteTime": {
     "end_time": "2023-09-12T12:28:43.016631697Z",
     "start_time": "2023-09-12T12:28:37.388922701Z"
    }
   },
   "outputs": [],
   "source": [
    "import jax.numpy as jnp\n",
    "from functools import partial\n",
    "import matplotlib.pyplot as plt\n",
    "import numpy as np\n",
    "from sklearn.linear_model import LinearRegression"
   ]
  },
  {
   "cell_type": "markdown",
   "source": [],
   "metadata": {
    "collapsed": false
   },
   "id": "9441bbbc911e637f"
  },
  {
   "cell_type": "code",
   "execution_count": null,
   "outputs": [],
   "source": [
    "#######################\n",
    "# Heading parameters. #\n",
    "# Strong order proxy. #\n",
    "#######################\n",
    "\n",
    "solver_name = \"EKF1_2\"\n",
    "problem_name = \"FHN\"\n",
    "prefix = f\"{solver_name}_{problem_name}\"\n",
    "folder = \"./EKF1_FHN\"\n",
    "\n",
    "deltas = 1/jnp.array([16, 32, 64, 128, 256, 512, 1024])\n",
    "deltas = 1/jnp.array([1024])\n",
    "Ns = 1/deltas\n",
    "fineN = Ns**1.0\n",
    "Mdeltas = jnp.ones((len(deltas),)) * (Ns)**0\n",
    "T = 1.0\n",
    "Ndeltas = T/deltas\n",
    "\n",
    "for n in range(len(Ndeltas)):\n",
    "    delta = deltas[n]\n",
    "    N = int(Ndeltas[n])\n",
    "    M = int(Mdeltas[n])\n",
    "    fine = int(fineN[n])\n",
    "    paths_1 = jnp.load(f'{folder}/{prefix}_pathwise_sols_{N}_{M}.npy')\n",
    "    paths_2 = jnp.load(f'{folder}/{prefix}_pathwise_sols2_{N}_{fine}.npy')\n",
    "    N = int(N)\n",
    "    N += 1\n",
    "    assert N == len(paths_1[0]) == len(paths_2[0])\n",
    "    ts = jnp.linspace(0, T, N)\n",
    "    ranged = range(N)\n",
    "    plt.plot(ts, jnp.log(jnp.mean(jnp.linalg.norm(paths_1 - paths_2, axis=-1), axis=0)) / jnp.log(delta),\n",
    "             label=f'delta={delta}, M={M}')\n",
    "plt.legend()"
   ],
   "metadata": {
    "collapsed": false,
    "ExecuteTime": {
     "end_time": "2023-09-12T14:52:52.805551877Z",
     "start_time": "2023-09-12T14:52:34.036301630Z"
    }
   },
   "id": "6d2fdfdaa3284214"
  },
  {
   "cell_type": "code",
   "execution_count": null,
   "outputs": [],
   "source": [
    "###########################\n",
    "# Weak and global errors  #\n",
    "# With log-log regression.#\n",
    "###########################\n",
    "\n",
    "STRONG_GLOBAL_ERRORS_P1P2 = []\n",
    "STRONG_LOCAL_ERRORS_P1P2 = []\n",
    "WEAK_GLOBAL_ERRORS_P1P2 = []\n",
    "@partial(jnp.vectorize, signature=\"(d,x)->(d,d)\")\n",
    "def WEAK_POLYNOMIAL(x):\n",
    "    return x @ x.T\n",
    "\n",
    "\n",
    "for n in range(len(deltas)):\n",
    "    N = int(Ndeltas[n])\n",
    "    M = int(Mdeltas[n])\n",
    "    fine = int(fineN[n])\n",
    "    paths_1 = jnp.load(f'{folder}/{prefix}_pathwise_sols_{N}_{M}.npy')\n",
    "    paths_2 = jnp.load(f'{folder}/{prefix}_pathwise_sols2_{N}_{fine}.npy')\n",
    "    #paths = jnp.load(f'{folder}/{prefix}_paths_{N}_{fine}.npy')\n",
    "    STRONG_GLOBAL_ERROR_P1P2 = jnp.mean(jnp.linalg.norm(paths_2 - paths_1, axis=-1), axis=0)[-1]\n",
    "    STRONG_LOCAL_ERROR_P1P2 = jnp.mean(jnp.linalg.norm(paths_2[:, 1] - paths_1[:, 1], axis=-1), axis=0)\n",
    "    \n",
    "    MOMENT_P1 = WEAK_POLYNOMIAL(paths_1[...,jnp.newaxis])\n",
    "    MOMENT_P2 = WEAK_POLYNOMIAL(paths_2[...,jnp.newaxis])\n",
    "    \n",
    "    WEAK_GLOBAL_ERROR_P1P2 = jnp.max(jnp.linalg.norm(jnp.linalg.norm(jnp.mean(MOMENT_P2, axis=0)-jnp.mean(MOMENT_P1, axis=0),axis=-1),axis=-1),axis=-1)\n",
    "    STRONG_GLOBAL_ERRORS_P1P2.append(STRONG_GLOBAL_ERROR_P1P2)\n",
    "    STRONG_LOCAL_ERRORS_P1P2.append(STRONG_LOCAL_ERROR_P1P2)\n",
    "    WEAK_GLOBAL_ERRORS_P1P2.append(WEAK_GLOBAL_ERROR_P1P2)\n",
    "    \n",
    "STRONG_GLOBAL_ERRORS_P1P2 = jnp.array(STRONG_GLOBAL_ERRORS_P1P2)\n",
    "STRONG_LOCAL_ERRORS_P1P2 = jnp.array(STRONG_LOCAL_ERRORS_P1P2)\n",
    "WEAK_GLOBAL_ERRORS_P1P2 = jnp.array(WEAK_GLOBAL_ERRORS_P1P2)\n",
    "plt.plot(-jnp.log(deltas), -jnp.log(STRONG_GLOBAL_ERRORS_P1P2), label='global error P1P2')\n",
    "plt.plot(-jnp.log(deltas), -jnp.log(STRONG_LOCAL_ERRORS_P1P2), label='local error P1P2')\n",
    "plt.plot(-jnp.log(deltas), -jnp.log(WEAK_GLOBAL_ERRORS_P1P2), label='weak global error P1P2')\n",
    "plt.legend()\n",
    "\n",
    "linear_regressor = LinearRegression().fit(-jnp.log(deltas).reshape(-1, 1), -jnp.log(STRONG_GLOBAL_ERRORS_P1P2))\n",
    "print(linear_regressor.coef_)\n",
    "linear_regressor = LinearRegression().fit(-jnp.log(deltas).reshape(-1, 1), -jnp.log(STRONG_LOCAL_ERRORS_P1P2))\n",
    "print(linear_regressor.coef_)\n",
    "linear_regressor = LinearRegression().fit(-jnp.log(deltas).reshape(-1, 1), -jnp.log(WEAK_GLOBAL_ERRORS_P1P2))\n",
    "print(linear_regressor.coef_)"
   ],
   "metadata": {
    "collapsed": false,
    "ExecuteTime": {
     "end_time": "2023-09-12T14:52:57.024368362Z",
     "start_time": "2023-09-12T14:52:52.807916902Z"
    }
   },
   "id": "8c8633222db6fdb0"
  },
  {
   "cell_type": "markdown",
   "source": [],
   "metadata": {
    "collapsed": false
   },
   "id": "b16bc44c34d8efd7"
  },
  {
   "cell_type": "code",
   "execution_count": null,
   "outputs": [],
   "source": [
    "\n",
    "jnp.save(f'{prefix}_STRONG_GLOBAL_ERRORS', jnp.array([deltas, STRONG_GLOBAL_ERRORS_P1P2]))\n",
    "jnp.save(f'{prefix}_STRONG_LOCAL_ERRORS', jnp.array([deltas, STRONG_LOCAL_ERRORS_P1P2]))\n",
    "jnp.save(f'{prefix}_WEAK_GLOBAL_ERRORS', jnp.array([deltas, WEAK_GLOBAL_ERRORS_P1P2]))\n",
    "#jnp.save(f'{prefix}_WEAK_GLOBAL_ERRORS_P1GroundTruth', jnp.array([deltas, WEAK_GLOBAL_ERRORS_P1GroundTruth]))"
   ],
   "metadata": {
    "collapsed": false,
    "ExecuteTime": {
     "end_time": "2023-09-12T14:53:14.196442243Z",
     "start_time": "2023-09-12T14:53:14.150622392Z"
    }
   },
   "id": "7c9446b8e40afbe9"
  },
  {
   "cell_type": "code",
   "execution_count": null,
   "outputs": [],
   "source": [
    "STRONG_GLOBAL_ERRORS = jnp.load(f'{prefix}_STRONG_GLOBAL_ERRORS.npy')\n",
    "STRONG_LOCAL_ERRORS = jnp.load(f'{prefix}_STRONG_LOCAL_ERRORS.npy')\n",
    "WEAK_GLOBAL_ERRORS = jnp.load(f'{prefix}_WEAK_GLOBAL_ERRORS.npy')\n",
    "#WEAK_GLOBAL_ERRORS_P1GroundTruth = jnp.load(f'{prefix}_WEAK_GLOBAL_ERRORS_P1GroundTruth.npy')\n",
    "\n",
    "np.savetxt(f'{prefix}_STRONG_GLOBAL_ERRORS.csv', STRONG_GLOBAL_ERRORS.T, delimiter=',', header='deltas,errors', comments=\"\")\n",
    "np.savetxt(f'{prefix}_STRONG_LOCAL_ERRORS.csv', STRONG_LOCAL_ERRORS.T, delimiter=',', header='deltas,errors', comments=\"\")\n",
    "np.savetxt(f'{prefix}_WEAK_GLOBAL_ERRORS.csv', WEAK_GLOBAL_ERRORS.T, delimiter=',', header='deltas,errors', comments=\"\")\n",
    "#np.savetxt(f'{prefix}_WEAK_GLOBAL_ERRORS_P1GroundTruth.csv', WEAK_GLOBAL_ERRORS_P1GroundTruth.T, delimiter=',', header='deltas,errors', comments=\"\")"
   ],
   "metadata": {
    "collapsed": false,
    "ExecuteTime": {
     "end_time": "2023-09-12T14:53:16.046312519Z",
     "start_time": "2023-09-12T14:53:16.005252316Z"
    }
   },
   "id": "b3d1da4d1861163e"
  },
  {
   "cell_type": "code",
   "execution_count": null,
   "outputs": [],
   "source": [
    "###############\n",
    "# Sample path #\n",
    "###############\n",
    "\n",
    "plt.plot(paths_1[10]) # Approximation\n",
    "plt.plot(paths_2[10]) # Fine solution."
   ],
   "metadata": {
    "collapsed": false,
    "ExecuteTime": {
     "end_time": "2023-09-12T12:30:23.796950168Z",
     "start_time": "2023-09-12T12:30:23.211623539Z"
    }
   },
   "id": "28c7579cdf132310"
  },
  {
   "cell_type": "code",
   "execution_count": null,
   "outputs": [],
   "source": [
    "ts = jnp.insert(jnp.linspace(1/1024, 1, 1024),0,0)\n",
    "np.savetxt(f'{prefix}_correct_mean_first.csv', jnp.array([ts, jnp.mean(paths_2[:,:,0], axis=0)]).T, delimiter=',', header='t,mean', comments=\"\")\n",
    "np.savetxt(f'{prefix}_correct_mean_secnd.csv', jnp.array([ts, jnp.mean(paths_2[:,:,1], axis=0)]).T, delimiter=',', header='t,mean', comments=\"\")\n",
    "np.savetxt(f'{prefix}_incorrect_mean_first.csv', jnp.array([ts, jnp.mean(paths_1[:,:,0], axis=0)]).T, delimiter=',', header='t,mean', comments=\"\")\n",
    "np.savetxt(f'{prefix}_incorrect_mean_secnd.csv', jnp.array([ts, jnp.mean(paths_1[:,:,1], axis=0)]).T, delimiter=',', header='t,mean', comments=\"\")"
   ],
   "metadata": {
    "collapsed": false,
    "ExecuteTime": {
     "end_time": "2023-09-11T08:51:16.738487529Z",
     "start_time": "2023-09-11T08:51:15.652161788Z"
    }
   },
   "id": "c34bcac1f6e20bc5"
  },
  {
   "cell_type": "code",
   "execution_count": null,
   "outputs": [],
   "source": [
    "plt.plot(ts, paths_2[0,:,0], label='correct mean first')\n",
    "plt.plot(ts, paths_2[0,:,1], label='correct mean second')"
   ],
   "metadata": {
    "collapsed": false
   }
  },
  {
   "cell_type": "code",
   "execution_count": null,
   "outputs": [],
   "source": [
    "np.savetxt(f'{prefix}_path_0.csv', jnp.array([ts, paths_2[0,:,0]]).T, delimiter=',', header='t,mean', comments=\"\")\n",
    "np.savetxt(f'{prefix}_path_1.csv', jnp.array([ts, paths_2[0,:,1]]).T, delimiter=',', header='t,mean', comments=\"\")"
   ],
   "metadata": {
    "collapsed": false
   }
  },
  {
   "cell_type": "code",
   "execution_count": null,
   "outputs": [],
   "source": [
    "import pandas as pd\n",
    "\n",
    "solver_name = \"EKF0_SSM\"\n",
    "problem_name = \"FHN\"\n",
    "prefix = f\"{solver_name}_{problem_name}\"\n",
    "folder = \"./EKF0_FHN\"\n",
    "\n",
    "print(prefix)\n",
    "#res_global_error = pd.read_csv(f'{folder}/{prefix}_STRONG_GLOBAL_ERRORS.csv', index_col=False, header=0)\n",
    "#res_local_error = pd.read_csv(f'{folder}/{prefix}_STRONG_LOCAL_ERRORS.csv', index_col=False, header=0)\n",
    "res_weak_error = pd.read_csv(f'{folder}/{prefix}_WEAK_GLOBAL_ERRORS.csv', index_col=False, header=0)\n",
    "\n"
   ],
   "metadata": {
    "collapsed": false
   }
  },
  {
   "cell_type": "code",
   "execution_count": null,
   "outputs": [],
   "source": [
    "def summary(df):\n",
    "    regr = LinearRegression()\n",
    "    X = jnp.log(df.deltas.values).reshape(6, 1)\n",
    "    Y = jnp.log(df.errors.values).reshape(6,1)\n",
    "    regr.fit(X, Y)\n",
    "    var_ = jnp.sqrt(1/4*jnp.sum((regr.predict(X)-Y)**2,axis=0))\n",
    "    return regr.coef_, regr.intercept_, var_, regr.score(X, Y)\n",
    "#print('STRONG LOCAL')\n",
    "#print(summary(res_local_error))\n",
    "#print('STRONG GLOBAL')\n",
    "#print(summary(res_global_error))\n",
    "print('WEAK GLOBAL')\n",
    "print(summary(res_weak_error))"
   ],
   "metadata": {
    "collapsed": false
   }
  },
  {
   "cell_type": "code",
   "execution_count": null,
   "outputs": [],
   "source": [],
   "metadata": {
    "collapsed": false
   }
  }
 ],
 "metadata": {
  "kernelspec": {
   "display_name": "Python 3 (ipykernel)",
   "language": "python",
   "name": "python3"
  },
  "language_info": {
   "codemirror_mode": {
    "name": "ipython",
    "version": 3
   },
   "file_extension": ".py",
   "mimetype": "text/x-python",
   "name": "python",
   "nbconvert_exporter": "python",
   "pygments_lexer": "ipython3",
   "version": "3.8.10"
  }
 },
 "nbformat": 4,
 "nbformat_minor": 5
}

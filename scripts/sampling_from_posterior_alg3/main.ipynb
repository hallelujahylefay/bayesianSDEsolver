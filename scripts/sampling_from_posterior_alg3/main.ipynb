{
 "cells": [
  {
   "cell_type": "code",
   "id": "initial_id",
   "metadata": {
    "collapsed": true,
    "ExecuteTime": {
     "end_time": "2024-08-26T12:33:18.189965Z",
     "start_time": "2024-08-26T12:33:18.178431Z"
    }
   },
   "source": [
    "import jax\n",
    "import jax.numpy as jnp\n",
    "import numpy as np\n",
    "import matplotlib.pyplot as plt\n",
    "\n",
    "\n",
    "\n",
    "solver_name = \"EKF1_2\"\n",
    "problem_name = \"samples_from_prior_FHN_calibrated\"\n",
    "prefix = f\"{solver_name}_{problem_name}\"\n",
    "folder = \"./\"\n",
    "\n",
    "N = 20\n",
    "delta = 1 / N\n",
    "fineN = int(N ** 1.0)\n",
    "T = 1\n",
    "Ndeltas = T / delta\n",
    "no_samples = 2\n",
    "\n",
    "euler_parabola_ode_sols=jnp.load(f'{folder}/{prefix}_pathwise_sols4_parabola_ode_{N}_{fineN}.npy')\n",
    "fine_em = jnp.load(f'{folder}/{prefix}_pathwise_sols2_{N}_{fineN}.npy')\n",
    "low_res_em = jnp.load(f'{folder}/{prefix}_pathwise_sols3_{N}_{fineN}.npy')\n",
    "mean = jnp.load(f'{folder}/{prefix}_mean_pn_{N}_1.npy')\n",
    "var = jnp.load(f'{folder}/{prefix}_var_pn_{N}_1.npy')"
   ],
   "outputs": [],
   "execution_count": 3
  },
  {
   "metadata": {},
   "cell_type": "markdown",
   "source": "",
   "id": "88de6af314497d1f"
  },
  {
   "metadata": {
    "ExecuteTime": {
     "end_time": "2024-08-26T08:47:04.496445Z",
     "start_time": "2024-08-26T08:47:04.489552Z"
    }
   },
   "cell_type": "code",
   "source": "var",
   "id": "ab8ff5cd2b212993",
   "outputs": [
    {
     "data": {
      "text/plain": [
       "Array([[[ 4.8648514e-04,  5.0526340e-03, -1.8778625e-05,  7.4850908e-04],\n",
       "        [ 5.0526340e-03,  9.5773920e-02, -4.5247613e-03,  1.2103726e-02],\n",
       "        [-1.8778625e-05, -4.5247613e-03,  4.3369751e-04, -4.6186408e-04],\n",
       "        [ 7.4850908e-04,  1.2103726e-02, -4.6186408e-04,  1.5846305e-03]],\n",
       "\n",
       "       [[ 7.3331414e-04,  4.0524458e-03,  3.2804045e-04,  7.7194156e-04],\n",
       "        [ 4.0524458e-03,  8.0873127e+00, -8.0467904e-01,  8.1075704e-01],\n",
       "        [ 3.2804045e-04, -8.0467904e-01,  8.0795929e-02, -8.0303796e-02],\n",
       "        [ 7.7194156e-04,  8.1075704e-01, -8.0303796e-02,  8.1461653e-02]],\n",
       "\n",
       "       [[ 2.4396889e-03,  2.5126091e-01, -2.2688655e-02,  2.6348168e-02],\n",
       "        [ 2.5126091e-01,  5.0003319e+01, -4.7493029e+00,  5.1261926e+00],\n",
       "        [-2.2688655e-02, -4.7493029e+00,  4.5226261e-01, -4.8629546e-01],\n",
       "        [ 2.6348168e-02,  5.1261926e+00, -4.8629546e-01,  5.2581751e-01]],\n",
       "\n",
       "       ...,\n",
       "\n",
       "       [[ 2.2028864e-03,  2.1019250e-01, -5.8789555e-02,  6.2093910e-02],\n",
       "        [ 2.1019250e-01,  5.2096275e+01, -8.8135509e+00,  9.1288424e+00],\n",
       "        [-5.8789555e-02, -8.8135509e+00,  1.8893507e+00, -1.9775357e+00],\n",
       "        [ 6.2093910e-02,  9.1288424e+00, -1.9775357e+00,  2.0706770e+00]],\n",
       "\n",
       "       [[ 2.2559450e-03,  2.1147202e-01, -5.7512511e-02,  6.0896423e-02],\n",
       "        [ 2.1147202e-01,  5.2187912e+01, -8.6276703e+00,  8.9448805e+00],\n",
       "        [-5.7512511e-02, -8.6276703e+00,  1.7898554e+00, -1.8761244e+00],\n",
       "        [ 6.0896423e-02,  8.9448805e+00, -1.8761244e+00,  1.9674691e+00]],\n",
       "\n",
       "       [[ 2.3221148e-03,  2.1200211e-01, -5.6721631e-02,  6.0204767e-02],\n",
       "        [ 2.1200211e-01,  5.2197578e+01, -8.4627571e+00,  8.7807560e+00],\n",
       "        [-5.6721631e-02, -8.4627571e+00,  1.7139473e+00, -1.7990286e+00],\n",
       "        [ 6.0204767e-02,  8.7807560e+00, -1.7990286e+00,  1.8893347e+00]]],      dtype=float32)"
      ]
     },
     "execution_count": 11,
     "metadata": {},
     "output_type": "execute_result"
    }
   ],
   "execution_count": 11
  },
  {
   "metadata": {
    "ExecuteTime": {
     "end_time": "2024-08-26T08:47:05.292886Z",
     "start_time": "2024-08-26T08:47:05.274334Z"
    }
   },
   "cell_type": "code",
   "source": "mean",
   "id": "75f51769bc7a7679",
   "outputs": [
    {
     "data": {
      "text/plain": [
       "Array([[-1.13772368e-03, -2.44869441e-01,  2.33492237e-02,\n",
       "        -1.53793335e-01],\n",
       "       [-6.73697423e-03, -1.07203317e+00,  1.00466549e-01,\n",
       "         1.47103262e+01],\n",
       "       [-1.73589010e-02, -1.05385363e+00,  8.80316868e-02,\n",
       "         3.23450494e+00],\n",
       "       [-2.35255118e-02, -7.13678002e-02, -1.63771957e-02,\n",
       "        -2.17469645e+00],\n",
       "       [-3.00713945e-02, -1.34231853e+00,  1.04184918e-01,\n",
       "         3.90690517e+00],\n",
       "       [-4.30960283e-02, -1.27294338e+00,  8.42783153e-02,\n",
       "        -3.49586678e+00],\n",
       "       [-5.78155592e-02, -1.68078017e+00,  1.10455051e-01,\n",
       "         2.89685488e+00],\n",
       "       [-6.63947016e-02,  8.15230608e-02, -7.42690116e-02,\n",
       "        -1.05294142e+01],\n",
       "       [-6.41209036e-02,  4.09698159e-01, -1.04827523e-01,\n",
       "         2.01642752e-01],\n",
       "       [-5.66824861e-02,  1.13263726e+00, -1.69766009e-01,\n",
       "        -2.48913980e+00],\n",
       "       [-5.12879938e-02, -1.35807991e-01, -3.75772715e-02,\n",
       "         7.93505669e+00],\n",
       "       [-4.86840717e-02,  7.46829212e-01, -1.23254001e-01,\n",
       "        -7.63466358e-01],\n",
       "       [-4.80463281e-02, -7.43230760e-01,  2.63817161e-02,\n",
       "         5.35208988e+00],\n",
       "       [-5.48670441e-02, -5.55658400e-01,  8.63917172e-04,\n",
       "         4.73474598e+00],\n",
       "       [-5.96233457e-02, -3.64121437e-01, -2.29993481e-02,\n",
       "         7.68035769e-01],\n",
       "       [-7.20038414e-02, -2.26544738e+00,  1.54899031e-01,\n",
       "         5.81750393e+00],\n",
       "       [-9.36964974e-02, -1.98528028e+00,  1.05653852e-01,\n",
       "         4.91104507e+00],\n",
       "       [-1.23920485e-01, -4.15966463e+00,  2.93911010e-01,\n",
       "         1.31864519e+01],\n",
       "       [-1.67893901e-01, -4.63055325e+00,  2.99891204e-01,\n",
       "         2.06480408e+00],\n",
       "       [-2.18841791e-01, -5.54379177e+00,  3.46004069e-01,\n",
       "         7.27086401e+00],\n",
       "       [-2.78784513e-01, -6.46169949e+00,  3.89036059e-01,\n",
       "         1.51474094e+00],\n",
       "       [-3.46661538e-01, -7.08862162e+00,  4.03849393e-01,\n",
       "         2.53951645e+00],\n",
       "       [-4.16756392e-01, -6.89020300e+00,  3.44647825e-01,\n",
       "         1.05883121e-01],\n",
       "       [-4.84746099e-01, -6.71186352e+00,  3.00344110e-01,\n",
       "        -3.53512859e+00],\n",
       "       [-5.46645880e-01, -5.69310379e+00,  1.85969085e-01,\n",
       "        -4.62187147e+00],\n",
       "       [-6.08884811e-01, -6.66800404e+00,  2.83602834e-01,\n",
       "         1.09353123e+01],\n",
       "       [-6.78964615e-01, -7.31169939e+00,  3.65179658e-01,\n",
       "         3.79179716e+00],\n",
       "       [-7.43506372e-01, -5.73827934e+00,  2.41168052e-01,\n",
       "        -2.20687962e+00],\n",
       "       [-8.04591835e-01, -6.48805857e+00,  3.65047812e-01,\n",
       "         8.74283791e-01],\n",
       "       [-8.74526978e-01, -7.45446873e+00,  5.39689004e-01,\n",
       "         5.13587809e+00],\n",
       "       [-9.42587137e-01, -6.37269115e+00,  5.32023609e-01,\n",
       "        -1.87176275e+00],\n",
       "       [-9.91758227e-01, -3.85289192e+00,  3.68373394e-01,\n",
       "        -1.29066372e+01],\n",
       "       [-1.03065777e+00, -4.01666498e+00,  4.65829968e-01,\n",
       "        -1.72372234e+00],\n",
       "       [-1.06581426e+00, -3.12192774e+00,  4.57020164e-01,\n",
       "        -2.66110754e+00],\n",
       "       [-1.09308863e+00, -2.43917465e+00,  4.56847012e-01,\n",
       "        -6.39735317e+00],\n",
       "       [-1.10794032e+00, -5.78596354e-01,  3.09647202e-01,\n",
       "        -7.86708260e+00],\n",
       "       [-1.11020815e+00,  1.55594230e-01,  2.42592156e-01,\n",
       "        -2.53984332e+00],\n",
       "       [-1.10334671e+00,  1.29919934e+00,  1.09825581e-01,\n",
       "        -5.48964310e+00],\n",
       "       [-1.09402812e+00,  4.93999124e-01,  1.65967032e-01,\n",
       "         1.69138956e+00],\n",
       "       [-1.09696543e+00, -1.18514812e+00,  3.41360629e-01,\n",
       "         9.41092873e+00],\n",
       "       [-1.10925817e+00, -1.29763627e+00,  3.85395736e-01,\n",
       "         1.27078485e+00],\n",
       "       [-1.13221455e+00, -3.36643720e+00,  6.55489862e-01,\n",
       "         1.21332521e+01],\n",
       "       [-1.16849303e+00, -3.97350025e+00,  8.24264705e-01,\n",
       "         5.93381405e-01],\n",
       "       [-1.22270930e+00, -6.87342262e+00,  1.29184198e+00,\n",
       "         1.38021612e+01],\n",
       "       [-1.29484951e+00, -7.70124769e+00,  1.64621854e+00,\n",
       "         2.61640549e-03],\n",
       "       [-1.38088644e+00, -9.60092831e+00,  2.21200991e+00,\n",
       "         3.05955315e+00],\n",
       "       [-1.46516705e+00, -7.91351366e+00,  2.47087526e+00,\n",
       "        -8.07218838e+00],\n",
       "       [-1.53942144e+00, -7.40889168e+00,  2.84950876e+00,\n",
       "        -6.80027485e+00],\n",
       "       [-1.60890019e+00, -6.90457392e+00,  3.24618936e+00,\n",
       "        -2.68062282e+00],\n",
       "       [-1.67074859e+00, -5.97935200e+00,  3.59065628e+00,\n",
       "        -1.59860935e+01],\n",
       "       [-1.72357285e+00, -4.96476936e+00,  3.89287782e+00,\n",
       "        -6.35627222e+00],\n",
       "       [-1.76876271e+00, -4.42225981e+00,  4.20697069e+00,\n",
       "        -8.55286407e+00],\n",
       "       [-1.80315578e+00, -2.70621991e+00,  4.32967043e+00,\n",
       "        -1.07154799e+01],\n",
       "       [-1.82670498e+00, -2.14995003e+00,  4.48366642e+00,\n",
       "        -1.75735700e+00],\n",
       "       [-1.86128175e+00, -5.20742846e+00,  5.10667801e+00,\n",
       "         1.33832741e+00],\n",
       "       [-1.92124724e+00, -7.27579498e+00,  5.89765644e+00,\n",
       "        -2.32854843e-01],\n",
       "       [-1.98315513e+00, -5.72867441e+00,  6.38857460e+00,\n",
       "        -1.66062965e+01],\n",
       "       [-2.02884579e+00, -3.86365271e+00,  6.70787144e+00,\n",
       "        -1.24948330e+01],\n",
       "       [-2.05226207e+00, -1.03982544e+00,  6.69397593e+00,\n",
       "        -1.55923748e+01],\n",
       "       [-2.06597757e+00, -1.96009779e+00,  6.94809532e+00,\n",
       "        -8.45250416e+00],\n",
       "       [-2.07596111e+00, -1.59905553e-01,  6.88604498e+00,\n",
       "        -1.53049068e+01],\n",
       "       [-2.07517672e+00,  2.50159711e-01,  6.83623028e+00,\n",
       "        -1.19192896e+01],\n",
       "       [-2.08102512e+00, -1.61791289e+00,  7.09255505e+00,\n",
       "        -7.01507568e+00],\n",
       "       [-2.09309459e+00, -9.47263241e-01,  7.17146921e+00,\n",
       "        -8.11141968e+00],\n",
       "       [-2.11743808e+00, -4.28401899e+00,  7.80318928e+00,\n",
       "        -3.10767937e+00],\n",
       "       [-2.15998650e+00, -4.68865585e+00,  8.38638496e+00,\n",
       "        -5.92117214e+00],\n",
       "       [-2.19567800e+00, -2.93547201e+00,  8.68240929e+00,\n",
       "        -1.91431236e+01],\n",
       "       [-2.22711205e+00, -3.76199436e+00,  9.19559383e+00,\n",
       "        -9.15298176e+00],\n",
       "       [-2.27986836e+00, -7.38352299e+00,  1.03072205e+01,\n",
       "        -1.66590500e+00],\n",
       "       [-2.34669399e+00, -6.86741066e+00,  1.12628965e+01,\n",
       "        -1.66447411e+01],\n",
       "       [-2.40702534e+00, -5.99736500e+00,  1.21379633e+01,\n",
       "        -1.00053120e+01],\n",
       "       [-2.45910716e+00, -5.18052673e+00,  1.29292231e+01,\n",
       "        -1.50715313e+01],\n",
       "       [-2.51527190e+00, -6.85681820e+00,  1.40833616e+01,\n",
       "        -1.31339350e+01],\n",
       "       [-2.58720899e+00, -8.57963943e+00,  1.55885372e+01,\n",
       "        -1.59587612e+01],\n",
       "       [-2.66956139e+00, -9.14689445e+00,  1.72698154e+01,\n",
       "        -1.43857059e+01],\n",
       "       [-2.76873589e+00, -1.22237644e+01,  1.96779938e+01,\n",
       "        -1.81854210e+01],\n",
       "       [-2.87218094e+00, -1.03941097e+01,  2.18580265e+01,\n",
       "        -2.60241261e+01],\n",
       "       [-2.97739863e+00, -1.25805216e+01,  2.46749821e+01,\n",
       "        -2.61049194e+01],\n",
       "       [-3.04961395e+00, -3.85089397e+00,  2.56707478e+01,\n",
       "        -4.24881172e+01],\n",
       "       [-3.07944942e+00, -3.13909674e+00,  2.64365711e+01,\n",
       "        -2.97824802e+01],\n",
       "       [-3.12058115e+00, -5.97051239e+00,  2.78638821e+01,\n",
       "        -3.03453102e+01],\n",
       "       [-3.14231849e+00,  6.50262833e-01,  2.78067932e+01,\n",
       "        -4.22218094e+01],\n",
       "       [-3.15525103e+00, -3.63716412e+00,  2.86168346e+01,\n",
       "        -2.56120396e+01],\n",
       "       [-3.16710877e+00,  5.31604290e-01,  2.85421104e+01,\n",
       "        -4.52194977e+01],\n",
       "       [-3.15238476e+00,  2.35119891e+00,  2.79386673e+01,\n",
       "        -3.43132095e+01],\n",
       "       [-3.12987399e+00,  2.40984702e+00,  2.72897243e+01,\n",
       "        -2.41438789e+01],\n",
       "       [-3.09472227e+00,  4.97464180e+00,  2.60457745e+01,\n",
       "        -3.45878143e+01],\n",
       "       [-3.03963184e+00,  6.80013943e+00,  2.43643570e+01,\n",
       "        -2.86551704e+01],\n",
       "       [-2.97634864e+00,  6.80012417e+00,  2.27098732e+01,\n",
       "        -2.50643597e+01],\n",
       "       [-2.93917537e+00,  1.21213675e+00,  2.23220844e+01,\n",
       "        -1.98768959e+01],\n",
       "       [-2.91482401e+00,  3.72092223e+00,  2.14768677e+01,\n",
       "        -3.18755379e+01],\n",
       "       [-2.87258983e+00,  5.20092201e+00,  2.03110676e+01,\n",
       "        -2.74450340e+01],\n",
       "       [-2.81455755e+00,  7.14872217e+00,  1.87664452e+01,\n",
       "        -2.40215454e+01],\n",
       "       [-2.73661709e+00,  9.42614841e+00,  1.68151550e+01,\n",
       "        -2.86079254e+01],\n",
       "       [-2.65068507e+00,  8.86228752e+00,  1.50865898e+01,\n",
       "        -1.91989288e+01],\n",
       "       [-2.57172298e+00,  7.92177773e+00,  1.36441298e+01,\n",
       "        -1.05121593e+01],\n",
       "       [-2.51017785e+00,  5.05494738e+00,  1.27985811e+01,\n",
       "        -1.21156912e+01],\n",
       "       [-2.45478415e+00,  6.59208632e+00,  1.16782951e+01,\n",
       "        -1.66399193e+01],\n",
       "       [-2.39369369e+00,  6.29389715e+00,  1.06920624e+01,\n",
       "        -7.81880188e+00],\n",
       "       [-2.34915733e+00,  3.01022649e+00,  1.03113604e+01,\n",
       "        -5.53903484e+00]], dtype=float32)"
      ]
     },
     "execution_count": 12,
     "metadata": {},
     "output_type": "execute_result"
    }
   ],
   "execution_count": 12
  },
  {
   "metadata": {
    "ExecuteTime": {
     "end_time": "2024-08-26T12:33:23.072225Z",
     "start_time": "2024-08-26T12:33:22.538751Z"
    }
   },
   "cell_type": "code",
   "source": [
    "plt.errorbar(x=np.linspace(0, 20, len(mean[:,0])),y=mean[:,0],yerr=np.sqrt(var[:,0,0]))\n",
    "plt.plot(fine_em[1:][::20][:,0])"
   ],
   "id": "4025e4c2aae20536",
   "outputs": [
    {
     "data": {
      "text/plain": [
       "[<matplotlib.lines.Line2D at 0x7dca0422bc50>]"
      ]
     },
     "execution_count": 4,
     "metadata": {},
     "output_type": "execute_result"
    },
    {
     "data": {
      "text/plain": [
       "<Figure size 640x480 with 1 Axes>"
      ],
      "image/png": "[encoded data removed]"
     },
     "metadata": {},
     "output_type": "display_data"
    }
   ],
   "execution_count": 4
  },
  {
   "metadata": {
    "ExecuteTime": {
     "end_time": "2024-08-26T12:33:25.392989Z",
     "start_time": "2024-08-26T12:33:25.067901Z"
    }
   },
   "cell_type": "code",
   "source": [
    "plt.errorbar(x=np.linspace(0, 20, len(mean[:,2])),y=mean[:,2],yerr=np.sqrt(var[:,2,2]))\n",
    "plt.plot(fine_em[1:][::20][:,1])"
   ],
   "id": "60d55e42eb94354f",
   "outputs": [
    {
     "data": {
      "text/plain": [
       "[<matplotlib.lines.Line2D at 0x7dca041b9790>]"
      ]
     },
     "execution_count": 5,
     "metadata": {},
     "output_type": "execute_result"
    },
    {
     "data": {
      "text/plain": [
       "<Figure size 640x480 with 1 Axes>"
      ],
      "image/png": "[encoded data removed]"
     },
     "metadata": {},
     "output_type": "display_data"
    }
   ],
   "execution_count": 5
  },
  {
   "metadata": {
    "ExecuteTime": {
     "end_time": "2024-08-03T14:59:49.978444Z",
     "start_time": "2024-08-03T14:59:49.973259Z"
    }
   },
   "cell_type": "code",
   "source": "",
   "id": "924781dcd5b27d94",
   "outputs": [
    {
     "data": {
      "text/plain": [
       "(20, 4, 4)"
      ]
     },
     "execution_count": 24,
     "metadata": {},
     "output_type": "execute_result"
    }
   ],
   "execution_count": 24
  },
  {
   "metadata": {
    "ExecuteTime": {
     "end_time": "2024-08-03T15:09:26.005662Z",
     "start_time": "2024-08-03T15:09:25.953380Z"
    }
   },
   "cell_type": "code",
   "source": "fine_em[1:][::20][:,0]",
   "id": "56e9d5c185f376dd",
   "outputs": [
    {
     "data": {
      "text/plain": [
       "Array([ 0.        , -0.02774381, -0.09103903, -0.21427879, -0.3855802 ,\n",
       "       -0.6451536 , -0.89929044, -1.0325528 , -1.0650285 , -1.0886128 ,\n",
       "       -1.0864369 , -1.0702223 , -1.0713654 , -1.0716623 , -1.0634619 ,\n",
       "       -1.0569798 , -1.0411686 , -1.0318567 , -1.0300634 , -1.0381734 ],      dtype=float32)"
      ]
     },
     "execution_count": 35,
     "metadata": {},
     "output_type": "execute_result"
    }
   ],
   "execution_count": 35
  },
  {
   "metadata": {
    "ExecuteTime": {
     "end_time": "2024-08-03T15:09:34.969303Z",
     "start_time": "2024-08-03T15:09:34.962325Z"
    }
   },
   "cell_type": "code",
   "source": "fine_em[1]",
   "id": "febc30fff119d31e",
   "outputs": [
    {
     "data": {
      "text/plain": [
       "Array([0.        , 0.00476125], dtype=float32)"
      ]
     },
     "execution_count": 38,
     "metadata": {},
     "output_type": "execute_result"
    }
   ],
   "execution_count": 38
  },
  {
   "metadata": {},
   "cell_type": "code",
   "outputs": [],
   "execution_count": null,
   "source": "",
   "id": "573490029972627b"
  }
 ],
 "metadata": {
  "kernelspec": {
   "display_name": "Python 3",
   "language": "python",
   "name": "python3"
  },
  "language_info": {
   "codemirror_mode": {
    "name": "ipython",
    "version": 2
   },
   "file_extension": ".py",
   "mimetype": "text/x-python",
   "name": "python",
   "nbconvert_exporter": "python",
   "pygments_lexer": "ipython2",
   "version": "2.7.6"
  }
 },
 "nbformat": 4,
 "nbformat_minor": 5
}

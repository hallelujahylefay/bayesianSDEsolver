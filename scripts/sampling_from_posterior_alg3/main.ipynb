{
 "cells": [
  {
   "cell_type": "code",
   "id": "initial_id",
   "metadata": {
    "collapsed": true,
    "ExecuteTime": {
     "end_time": "2024-08-27T13:54:58.155265Z",
     "start_time": "2024-08-27T13:54:58.144360Z"
    }
   },
   "source": [
    "import jax.numpy as jnp\n",
    "import numpy as np\n",
    "import matplotlib.pyplot as plt\n",
    "from bayesian_sde_solver.utils import insert\n",
    "\n",
    "\n",
    "solver_name = \"EKF0_2\"\n",
    "problem_name = \"FHN_calibrated\"\n",
    "prefix = f\"{solver_name}_{problem_name}\"\n",
    "folder = \"./\"\n",
    "\n",
    "N = 25\n",
    "delta = 1 / N\n",
    "fineN = int(N ** 1.0)\n",
    "T = 1\n",
    "Ndeltas = T / delta\n",
    "no_samples = 2\n",
    "\n",
    "euler_parabola_ode_sols=jnp.load(f'{folder}/{prefix}_pathwise_sols4_parabola_ode_{N}_{fineN}.npy')\n",
    "fine_em = jnp.load(f'{folder}/{prefix}_pathwise_sols2_{N}_{fineN}.npy')\n",
    "low_res_em = jnp.load(f'{folder}/{prefix}_pathwise_sols3_{N}_{fineN}.npy')\n",
    "mean = jnp.load(f'{folder}/{prefix}_mean_pn_{N}_1.npy')\n",
    "var = jnp.load(f'{folder}/{prefix}_var_pn_{N}_1.npy')"
   ],
   "outputs": [],
   "execution_count": 99
  },
  {
   "metadata": {},
   "cell_type": "markdown",
   "source": "",
   "id": "88de6af314497d1f"
  },
  {
   "metadata": {
    "ExecuteTime": {
     "end_time": "2024-08-27T13:04:17.998813Z",
     "start_time": "2024-08-27T13:04:17.987983Z"
    }
   },
   "cell_type": "code",
   "source": "var",
   "id": "ab8ff5cd2b212993",
   "outputs": [
    {
     "data": {
      "text/plain": [
       "Array([[[ 9.20689572e-03,  1.02360152e-01, -1.02912344e-03,\n",
       "          1.48395086e-02],\n",
       "        [ 1.02360152e-01,  1.51833391e+00, -4.94732745e-02,\n",
       "          2.03013822e-01],\n",
       "        [-1.02912344e-03, -4.94732745e-02,  3.91820399e-03,\n",
       "         -5.46188047e-03],\n",
       "        [ 1.48395086e-02,  2.03013822e-01, -5.46188047e-03,\n",
       "          2.77211964e-02]],\n",
       "\n",
       "       [[ 4.17787284e-02,  4.22729403e-01, -2.64925486e-03,\n",
       "          6.53173253e-02],\n",
       "        [ 4.22729403e-01,  4.94458294e+00, -9.35342610e-02,\n",
       "          7.27628171e-01],\n",
       "        [-2.64925486e-03, -9.35342610e-02,  6.84082694e-03,\n",
       "         -1.08147096e-02],\n",
       "        [ 6.53173253e-02,  7.27628171e-01, -1.08147096e-02,\n",
       "          1.08790666e-01]],\n",
       "\n",
       "       [[ 1.30753130e-01,  1.07460141e+00,  4.42841148e-04,\n",
       "          1.95686772e-01],\n",
       "        [ 1.07460141e+00,  9.76877117e+00, -9.00708362e-02,\n",
       "          1.70197248e+00],\n",
       "        [ 4.42841148e-04, -9.00708362e-02,  9.37253237e-03,\n",
       "         -8.70828424e-03],\n",
       "        [ 1.95686772e-01,  1.70197248e+00, -8.70828424e-03,\n",
       "          3.02238375e-01]],\n",
       "\n",
       "       [[ 2.38179028e-01,  8.50795865e-01,  9.33999103e-03,\n",
       "          3.47929001e-01],\n",
       "        [ 8.50795865e-01,  4.27759933e+00, -9.04851556e-02,\n",
       "          1.36668038e+00],\n",
       "        [ 9.33999103e-03, -9.04851556e-02,  1.27511024e-02,\n",
       "          1.25891995e-03],\n",
       "        [ 3.47929001e-01,  1.36668038e+00,  1.25891995e-03,\n",
       "          5.20635247e-01]],\n",
       "\n",
       "       [[ 3.18221152e-02, -6.97388947e-01,  3.69557342e-03,\n",
       "          4.40375917e-02],\n",
       "        [-6.97388947e-01,  1.69242229e+01, -2.45067716e-01,\n",
       "         -8.01015973e-01],\n",
       "        [ 3.69557342e-03, -2.45067716e-01,  1.68370120e-02,\n",
       "         -1.12936161e-02],\n",
       "        [ 4.40375917e-02, -8.01015973e-01, -1.12936161e-02,\n",
       "          7.73499608e-02]],\n",
       "\n",
       "       [[ 9.07650683e-03, -1.38044521e-01, -3.69738555e-03,\n",
       "          1.73121393e-02],\n",
       "        [-1.38044521e-01,  3.80443168e+00, -1.14257842e-01,\n",
       "         -9.28086191e-02],\n",
       "        [-3.69738555e-03, -1.14257842e-01,  1.85552929e-02,\n",
       "         -2.41013933e-02],\n",
       "        [ 1.73121393e-02, -9.28086191e-02, -2.41013933e-02,\n",
       "          5.00696152e-02]],\n",
       "\n",
       "       [[ 5.97672351e-03, -4.20675091e-02, -7.59566063e-03,\n",
       "          1.65607519e-02],\n",
       "        [-4.20675091e-02,  1.24574494e+00, -4.15025689e-02,\n",
       "         -2.15989128e-02],\n",
       "        [-7.59566063e-03, -4.15025689e-02,  1.91496313e-02,\n",
       "         -3.05431113e-02],\n",
       "        [ 1.65607519e-02, -2.15989128e-02, -3.05431113e-02,\n",
       "          5.53842336e-02]],\n",
       "\n",
       "       [[ 7.82525726e-03, -2.10411623e-02, -9.82666016e-03,\n",
       "          2.15644818e-02],\n",
       "        [-2.10411623e-02,  7.82161236e-01, -4.61357161e-02,\n",
       "          1.45745203e-02],\n",
       "        [-9.82666016e-03, -4.61357161e-02,  1.95957869e-02,\n",
       "         -3.43357325e-02],\n",
       "        [ 2.15644818e-02,  1.45745203e-02, -3.43357325e-02,\n",
       "          6.66823164e-02]],\n",
       "\n",
       "       [[ 1.08083319e-02, -9.41161998e-03, -1.17895314e-02,\n",
       "          2.80020405e-02],\n",
       "        [-9.41161998e-03,  6.86138332e-01, -5.75282536e-02,\n",
       "          4.34106737e-02],\n",
       "        [-1.17895314e-02, -5.75282536e-02,  1.96392331e-02,\n",
       "         -3.73235270e-02],\n",
       "        [ 2.80020405e-02,  4.34106737e-02, -3.73235270e-02,\n",
       "          7.93265998e-02]],\n",
       "\n",
       "       [[ 1.01457154e-02, -4.40110974e-02, -1.14534190e-02,\n",
       "          2.66719963e-02],\n",
       "        [-4.40110974e-02,  8.51359129e-01, -1.63605437e-02,\n",
       "         -4.96560931e-02],\n",
       "        [-1.14534190e-02, -1.63605437e-02,  1.95341092e-02,\n",
       "         -3.67142446e-02],\n",
       "        [ 2.66719963e-02, -4.96560931e-02, -3.67142446e-02,\n",
       "          7.67222568e-02]],\n",
       "\n",
       "       [[ 1.12305162e-02, -2.51478627e-02, -1.20141655e-02,\n",
       "          2.88600344e-02],\n",
       "        [-2.51478627e-02,  7.14243948e-01, -3.88905331e-02,\n",
       "          1.16840005e-03],\n",
       "        [-1.20141655e-02, -3.88905331e-02,  1.94318146e-02,\n",
       "         -3.74531522e-02],\n",
       "        [ 2.88600344e-02,  1.16840005e-03, -3.74531522e-02,\n",
       "          8.07434320e-02]],\n",
       "\n",
       "       [[ 1.26452176e-02, -2.31184494e-02, -1.26722027e-02,\n",
       "          3.16400230e-02],\n",
       "        [-2.31184494e-02,  6.95698738e-01, -4.21754941e-02,\n",
       "          7.49774650e-03],\n",
       "        [-1.26722027e-02, -4.21754941e-02,  1.92335714e-02,\n",
       "         -3.82418595e-02],\n",
       "        [ 3.16400230e-02,  7.49774650e-03, -3.82418595e-02,\n",
       "          8.57018679e-02]],\n",
       "\n",
       "       [[ 1.02109676e-02, -5.60477488e-02, -1.13414796e-02,\n",
       "          2.66579427e-02],\n",
       "        [-5.60477488e-02,  9.59244609e-01, -2.90688500e-03,\n",
       "         -8.11647326e-02],\n",
       "        [-1.13414796e-02, -2.90688500e-03,  1.91131551e-02,\n",
       "         -3.61253917e-02],\n",
       "        [ 2.66579427e-02, -8.11647326e-02, -3.61253917e-02,\n",
       "          7.61123449e-02]],\n",
       "\n",
       "       [[ 1.01579819e-02, -3.34775783e-02, -1.13007315e-02,\n",
       "          2.65377034e-02],\n",
       "        [-3.34775783e-02,  7.66954958e-01, -2.84185857e-02,\n",
       "         -2.17979029e-02],\n",
       "        [-1.13007315e-02, -2.84185857e-02,  1.91382691e-02,\n",
       "         -3.60893533e-02],\n",
       "        [ 2.65377034e-02, -2.17979029e-02, -3.60893533e-02,\n",
       "          7.58958906e-02]],\n",
       "\n",
       "       [[ 8.39972403e-03, -4.80616316e-02, -1.03089390e-02,\n",
       "          2.29085311e-02],\n",
       "        [-4.80616316e-02,  9.35201764e-01, -7.03442469e-03,\n",
       "         -6.50579557e-02],\n",
       "        [-1.03089390e-02, -7.03442469e-03,  1.92541312e-02,\n",
       "         -3.47175561e-02],\n",
       "        [ 2.29085311e-02, -6.50579557e-02, -3.47175561e-02,\n",
       "          6.90803826e-02]],\n",
       "\n",
       "       [[ 8.87911487e-03, -2.95483284e-02, -1.06310286e-02,\n",
       "          2.39497777e-02],\n",
       "        [-2.95483284e-02,  7.66420543e-01, -3.14304084e-02,\n",
       "         -1.28927231e-02],\n",
       "        [-1.06310286e-02, -3.14304084e-02,  1.94094926e-02,\n",
       "         -3.53560895e-02],\n",
       "        [ 2.39497777e-02, -1.28927231e-02, -3.53560895e-02,\n",
       "          7.12809265e-02]]], dtype=float32)"
      ]
     },
     "execution_count": 60,
     "metadata": {},
     "output_type": "execute_result"
    }
   ],
   "execution_count": 60
  },
  {
   "metadata": {
    "ExecuteTime": {
     "end_time": "2024-08-27T14:04:05.941943Z",
     "start_time": "2024-08-27T14:04:05.120149Z"
    }
   },
   "cell_type": "code",
   "source": [
    "t = np.linspace(0,T, N+1)\n",
    "# Select the coordinate, initialisation to (0, 0)\n",
    "idx = 0\n",
    "x_mean = insert(mean[:,idx*2], 0, 0., axis=0)\n",
    "x_std = insert(np.sqrt(var[:,idx*2,idx*2]), 0, 0, 0)**0.5\n",
    "plt.errorbar(x=t, y=x_mean, yerr=x_std)\n",
    "fine = fine_em[::N][:,idx]\n",
    "\n",
    "plt.plot(t, fine)\n",
    "np.savetxt(f'{prefix}_UC_{idx}_{N}_{fineN}.csv', np.array([t, x_mean, x_std]).T, delimiter=',', header='t,mean,error', comments=\"\")\n",
    "np.savetxt(f'{prefix}_fine_{idx}_{N}_{fineN}.csv', np.array([t, fine]).T, delimiter=',', header='t,mean', comments=\"\")"
   ],
   "id": "4025e4c2aae20536",
   "outputs": [
    {
     "data": {
      "text/plain": [
       "<Figure size 640x480 with 1 Axes>"
      ],
      "image/png": "[encoded data removed]"
     },
     "metadata": {},
     "output_type": "display_data"
    }
   ],
   "execution_count": 102
  },
  {
   "metadata": {
    "ExecuteTime": {
     "end_time": "2024-08-27T14:11:13.939789Z",
     "start_time": "2024-08-27T14:11:13.929474Z"
    }
   },
   "cell_type": "code",
   "source": "x_std",
   "id": "924781dcd5b27d94",
   "outputs": [
    {
     "data": {
      "text/plain": [
       "Array([0.        , 0.20419881, 0.2428347 , 0.26874074, 0.28878072,\n",
       "       0.30534843, 0.3195884 , 0.332145  , 0.3434201 , 0.35368255,\n",
       "       0.36312237, 0.3718786 , 0.38005665, 0.3877385 , 0.39498907,\n",
       "       0.40186104, 0.4083975 , 0.4146344 , 0.4206019 , 0.4263257 ,\n",
       "       0.43182778, 0.4371273 , 0.44224077, 0.44718277, 0.4519662 ,\n",
       "       0.45660236], dtype=float32)"
      ]
     },
     "execution_count": 103,
     "metadata": {},
     "output_type": "execute_result"
    }
   ],
   "execution_count": 103
  },
  {
   "metadata": {
    "ExecuteTime": {
     "end_time": "2024-08-27T13:12:55.297966Z",
     "start_time": "2024-08-27T13:12:55.291850Z"
    }
   },
   "cell_type": "code",
   "source": "fine_em[1:][::20][:,0]",
   "id": "56e9d5c185f376dd",
   "outputs": [
    {
     "data": {
      "text/plain": [
       "Array([0.        , 0.19945133, 0.256763  , 0.30959582, 0.36328647,\n",
       "       0.41841513, 0.47287127, 0.5223503 , 0.5556355 , 0.56173813,\n",
       "       0.5296579 , 0.4655714 , 0.39366007, 0.32331917, 0.273679  ,\n",
       "       0.24877873, 0.24236478, 0.243749  , 0.24609932, 0.24702007,\n",
       "       0.24720842, 0.24691135, 0.2475651 , 0.24854922, 0.2505748 ,\n",
       "       0.25329423, 0.25520134, 0.25547075, 0.255506  , 0.25587237,\n",
       "       0.25674388, 0.25683826, 0.25763065, 0.2601026 , 0.26262957,\n",
       "       0.26369625, 0.2608365 , 0.25914595, 0.25850788, 0.25757995,\n",
       "       0.25602597], dtype=float32)"
      ]
     },
     "execution_count": 68,
     "metadata": {},
     "output_type": "execute_result"
    }
   ],
   "execution_count": 68
  },
  {
   "metadata": {
    "ExecuteTime": {
     "end_time": "2024-08-27T12:52:22.696173Z",
     "start_time": "2024-08-27T12:52:22.687271Z"
    }
   },
   "cell_type": "code",
   "source": "fine_em.shape",
   "id": "febc30fff119d31e",
   "outputs": [
    {
     "data": {
      "text/plain": [
       "(401, 2)"
      ]
     },
     "execution_count": 13,
     "metadata": {},
     "output_type": "execute_result"
    }
   ],
   "execution_count": 13
  },
  {
   "metadata": {
    "ExecuteTime": {
     "end_time": "2024-08-27T12:50:16.061563Z",
     "start_time": "2024-08-27T12:50:16.056401Z"
    }
   },
   "cell_type": "code",
   "source": "fine_em[1:.shape",
   "id": "573490029972627b",
   "outputs": [
    {
     "data": {
      "text/plain": [
       "(401, 2)"
      ]
     },
     "execution_count": 10,
     "metadata": {},
     "output_type": "execute_result"
    }
   ],
   "execution_count": 10
  },
  {
   "metadata": {},
   "cell_type": "code",
   "outputs": [],
   "execution_count": null,
   "source": "",
   "id": "a6b9494d556d6f29"
  }
 ],
 "metadata": {
  "kernelspec": {
   "display_name": "Python 3",
   "language": "python",
   "name": "python3"
  },
  "language_info": {
   "codemirror_mode": {
    "name": "ipython",
    "version": 2
   },
   "file_extension": ".py",
   "mimetype": "text/x-python",
   "name": "python",
   "nbconvert_exporter": "python",
   "pygments_lexer": "ipython2",
   "version": "2.7.6"
  }
 },
 "nbformat": 4,
 "nbformat_minor": 5
}

{
 "cells": [
  {
   "cell_type": "code",
   "id": "dc1a60df-5b5b-408b-be2d-8c0a3940cc05",
   "metadata": {
    "ExecuteTime": {
     "end_time": "2024-06-23T15:11:18.392260Z",
     "start_time": "2024-06-23T15:11:18.387130Z"
    }
   },
   "source": [
    "import jax.numpy as jnp\n",
    "from functools import partial\n",
    "import matplotlib.pyplot as plt\n",
    "import numpy as np\n",
    "from sklearn.linear_model import LinearRegression"
   ],
   "execution_count": 11,
   "outputs": []
  },
  {
   "cell_type": "markdown",
   "source": [],
   "metadata": {
    "collapsed": false
   },
   "id": "9441bbbc911e637f"
  },
  {
   "cell_type": "code",
   "source": [
    "#######################\n",
    "# Heading parameters. #\n",
    "# Strong order proxy. #\n",
    "#######################\n",
    "\n",
    "order = 2\n",
    "solver_name = \"EKF0\"\n",
    "problem_name = \"FHN_review\"\n",
    "prefix = f\"{solver_name}_{problem_name}\"\n",
    "folder = \"./\"\n",
    "\n",
    "deltas = 1/jnp.array([16, 32, 64])\n",
    "Ns = 1/deltas\n",
    "fineN = Ns**1.0\n",
    "Mdeltas = jnp.ones((len(deltas),)) * (Ns)**0\n",
    "T = 1.0\n",
    "Ndeltas = T/deltas\n",
    "\n",
    "for n in range(len(Ndeltas)):\n",
    "    delta = deltas[n]\n",
    "    N = int(Ndeltas[n])\n",
    "    M = int(Mdeltas[n])\n",
    "    fine = int(fineN[n])\n",
    "    paths_1 = jnp.load(f'{folder}/{prefix}_pathwise_sols_{N}_{fine}.npy')\n",
    "    paths_2 = jnp.load(f'{folder}/{prefix}_IOUP_{order}_pathwise_sols2_{N}_{M}.npy')\n",
    "    paths_3 = jnp.load(f'{folder}/{prefix}_Matern_{order}_pathwise_sols2_{N}_{M}.npy')\n",
    "    N = int(N)\n",
    "    N += 1\n",
    "    assert N == len(paths_1[0]) == len(paths_2[0])\n",
    "    ts = jnp.linspace(0, T, N)\n",
    "    ranged = range(N)\n",
    "    plt.plot(ts, jnp.log(jnp.mean(jnp.linalg.norm(paths_1 - paths_2, axis=-1), axis=0)) / jnp.log(delta),\n",
    "             label=f'delta={delta}, M={M}')\n",
    "    \n",
    "    plt.plot(ts, jnp.log(jnp.mean(jnp.linalg.norm(paths_1 - paths_3, axis=-1), axis=0)) / jnp.log(delta),\n",
    "             label=f'delta={delta}, M={M}', linestyle='--')\n",
    "plt.legend()"
   ],
   "metadata": {
    "collapsed": false,
    "ExecuteTime": {
     "end_time": "2024-06-23T15:48:22.281691Z",
     "start_time": "2024-06-23T15:48:21.951992Z"
    }
   },
   "id": "6d2fdfdaa3284214",
   "execution_count": 20,
   "outputs": []
  },
  {
   "cell_type": "code",
   "source": [
    "###########################\n",
    "# Weak and global errors  #\n",
    "# With log-log regression.#\n",
    "###########################\n",
    "\n",
    "STRONG_GLOBAL_ERRORS_P1P2 = []\n",
    "STRONG_LOCAL_ERRORS_P1P2 = []\n",
    "WEAK_GLOBAL_ERRORS_P1P2 = []\n",
    "\n",
    "STRONG_GLOBAL_ERRORS_P1P3 = []\n",
    "STRONG_LOCAL_ERRORS_P1P3 = []\n",
    "WEAK_GLOBAL_ERRORS_P1P3 = []\n",
    "@partial(jnp.vectorize, signature=\"(d,x)->(d,d)\")\n",
    "def WEAK_POLYNOMIAL(x):\n",
    "    return x @ x.T\n",
    "\n",
    "\n",
    "for n in range(len(deltas)):\n",
    "    N = int(Ndeltas[n])\n",
    "    M = int(Mdeltas[n])\n",
    "    fine = int(fineN[n])\n",
    "    paths_1 = jnp.load(f'{folder}/{prefix}_pathwise_sols_{N}_{fine}.npy')\n",
    "    paths_2 = jnp.load(f'{folder}/{prefix}_IOUP_{order}_pathwise_sols2_{N}_{M}.npy')\n",
    "    paths_3 = jnp.load(f'{folder}/{prefix}_Matern_{order}_pathwise_sols2_{N}_{M}.npy')\n",
    "    STRONG_GLOBAL_ERROR_P1P2 = jnp.mean(jnp.linalg.norm(paths_2 - paths_1, axis=-1), axis=0)[-1]\n",
    "    STRONG_LOCAL_ERROR_P1P2 = jnp.mean(jnp.linalg.norm(paths_2[:, 1] - paths_1[:, 1], axis=-1), axis=0)\n",
    "    \n",
    "    STRONG_GLOBAL_ERROR_P1P3 = jnp.mean(jnp.linalg.norm(paths_3 - paths_1, axis=-1), axis=0)[-1]\n",
    "    STRONG_LOCAL_ERROR_P1P3 = jnp.mean(jnp.linalg.norm(paths_3[:, 1] - paths_1[:, 1], axis=-1), axis=0)\n",
    "    \n",
    "    MOMENT_P1 = WEAK_POLYNOMIAL(paths_1[...,jnp.newaxis])\n",
    "    MOMENT_P2 = WEAK_POLYNOMIAL(paths_2[...,jnp.newaxis])\n",
    "    MOMENT_P3 = WEAK_POLYNOMIAL(paths_3[...,jnp.newaxis])\n",
    "    \n",
    "    WEAK_GLOBAL_ERROR_P1P2 = jnp.max(jnp.linalg.norm(jnp.linalg.norm(jnp.mean(MOMENT_P2, axis=0)-jnp.mean(MOMENT_P1, axis=0),axis=-1),axis=-1),axis=-1)\n",
    "    \n",
    "    WEAK_GLOBAL_ERROR_P1P3 = jnp.max(jnp.linalg.norm(jnp.linalg.norm(jnp.mean(MOMENT_P3, axis=0)-jnp.mean(MOMENT_P1, axis=0),axis=-1),axis=-1),axis=-1)\n",
    "    \n",
    "    STRONG_GLOBAL_ERRORS_P1P2.append(STRONG_GLOBAL_ERROR_P1P2)\n",
    "    STRONG_LOCAL_ERRORS_P1P2.append(STRONG_LOCAL_ERROR_P1P2)\n",
    "    WEAK_GLOBAL_ERRORS_P1P2.append(WEAK_GLOBAL_ERROR_P1P2)\n",
    "    \n",
    "    STRONG_GLOBAL_ERRORS_P1P3.append(STRONG_GLOBAL_ERROR_P1P3)\n",
    "    STRONG_LOCAL_ERRORS_P1P3.append(STRONG_LOCAL_ERROR_P1P3)\n",
    "    WEAK_GLOBAL_ERRORS_P1P3.append(WEAK_GLOBAL_ERROR_P1P3)\n",
    "    \n",
    "STRONG_GLOBAL_ERRORS_P1P2 = jnp.array(STRONG_GLOBAL_ERRORS_P1P2)\n",
    "STRONG_LOCAL_ERRORS_P1P2 = jnp.array(STRONG_LOCAL_ERRORS_P1P2)\n",
    "WEAK_GLOBAL_ERRORS_P1P2 = jnp.array(WEAK_GLOBAL_ERRORS_P1P2)\n",
    "\n",
    "STRONG_GLOBAL_ERRORS_P1P3 = jnp.array(STRONG_GLOBAL_ERRORS_P1P3)\n",
    "STRONG_LOCAL_ERRORS_P1P3 = jnp.array(STRONG_LOCAL_ERRORS_P1P3)\n",
    "WEAK_GLOBAL_ERRORS_P1P3 = jnp.array(WEAK_GLOBAL_ERRORS_P1P3)\n",
    "\n",
    "plt.plot(-jnp.log(deltas), -jnp.log(STRONG_GLOBAL_ERRORS_P1P2), label='global error P1P2')\n",
    "plt.plot(-jnp.log(deltas), -jnp.log(STRONG_LOCAL_ERRORS_P1P2), label='local error P1P2')\n",
    "plt.plot(-jnp.log(deltas), -jnp.log(WEAK_GLOBAL_ERRORS_P1P2), label='weak global error P1P2')\n",
    "\n",
    "plt.plot(-jnp.log(deltas), -jnp.log(STRONG_GLOBAL_ERRORS_P1P3), label='global error P1P3', linestyle='--')\n",
    "plt.plot(-jnp.log(deltas), -jnp.log(STRONG_LOCAL_ERRORS_P1P3), label='local error P1P3', linestyle='--')\n",
    "plt.plot(-jnp.log(deltas), -jnp.log(WEAK_GLOBAL_ERRORS_P1P3), label='weak global error P1P3', linestyle='--')\n",
    "plt.legend()\n",
    "\n",
    "linear_regressor = LinearRegression().fit(-jnp.log(deltas).reshape(-1, 1), -jnp.log(STRONG_GLOBAL_ERRORS_P1P2))\n",
    "print(linear_regressor.coef_)\n",
    "linear_regressor = LinearRegression().fit(-jnp.log(deltas).reshape(-1, 1), -jnp.log(STRONG_LOCAL_ERRORS_P1P2))\n",
    "print(linear_regressor.coef_)\n",
    "linear_regressor = LinearRegression().fit(-jnp.log(deltas).reshape(-1, 1), -jnp.log(WEAK_GLOBAL_ERRORS_P1P2))\n",
    "print(linear_regressor.coef_)\n",
    "\n",
    "\n",
    "linear_regressor = LinearRegression().fit(-jnp.log(deltas).reshape(-1, 1), -jnp.log(STRONG_GLOBAL_ERRORS_P1P3))\n",
    "print(linear_regressor.coef_)\n",
    "linear_regressor = LinearRegression().fit(-jnp.log(deltas).reshape(-1, 1), -jnp.log(STRONG_LOCAL_ERRORS_P1P3))\n",
    "print(linear_regressor.coef_)\n",
    "linear_regressor = LinearRegression().fit(-jnp.log(deltas).reshape(-1, 1), -jnp.log(WEAK_GLOBAL_ERRORS_P1P3))\n",
    "print(linear_regressor.coef_)"
   ],
   "metadata": {
    "collapsed": false,
    "ExecuteTime": {
     "end_time": "2024-06-23T15:48:27.268766Z",
     "start_time": "2024-06-23T15:48:26.726759Z"
    }
   },
   "id": "8c8633222db6fdb0",
   "execution_count": 21,
   "outputs": []
  },
  {
   "cell_type": "markdown",
   "source": [],
   "metadata": {
    "collapsed": false
   },
   "id": "b16bc44c34d8efd7"
  },
  {
   "cell_type": "code",
   "source": [
    "jnp.save(f'{prefix}_STRONG_GLOBAL_ERRORS', jnp.array([deltas, STRONG_GLOBAL_ERRORS_P1P2]))\n",
    "jnp.save(f'{prefix}_STRONG_LOCAL_ERRORS', jnp.array([deltas, STRONG_LOCAL_ERRORS_P1P2]))\n",
    "jnp.save(f'{prefix}_WEAK_GLOBAL_ERRORS', jnp.array([deltas, WEAK_GLOBAL_ERRORS_P1P2]))\n",
    "jnp.save(f'{prefix}_STRONG_GLOBAL_ERRORS_MAT', jnp.array([deltas, STRONG_GLOBAL_ERRORS_P1P3]))\n",
    "jnp.save(f'{prefix}_STRONG_LOCAL_ERRORS_MAT', jnp.array([deltas, STRONG_LOCAL_ERRORS_P1P3]))\n",
    "jnp.save(f'{prefix}_WEAK_GLOBAL_ERRORS_MAT', jnp.array([deltas, WEAK_GLOBAL_ERRORS_P1P3]))"
   ],
   "metadata": {
    "collapsed": false,
    "ExecuteTime": {
     "end_time": "2024-06-23T15:48:30.001226Z",
     "start_time": "2024-06-23T15:48:29.979542Z"
    }
   },
   "id": "7c9446b8e40afbe9",
   "execution_count": 22,
   "outputs": []
  },
  {
   "cell_type": "code",
   "source": [
    "STRONG_GLOBAL_ERRORS = jnp.load(f'{prefix}_STRONG_GLOBAL_ERRORS.npy')\n",
    "STRONG_LOCAL_ERRORS = jnp.load(f'{prefix}_STRONG_LOCAL_ERRORS.npy')\n",
    "WEAK_GLOBAL_ERRORS = jnp.load(f'{prefix}_WEAK_GLOBAL_ERRORS.npy')\n",
    "STRONG_GLOBAL_ERRORS_MAT = jnp.load(f'{prefix}_STRONG_GLOBAL_ERRORS_MAT.npy')\n",
    "STRONG_LOCAL_ERRORS_MAT = jnp.load(f'{prefix}_STRONG_LOCAL_ERRORS_MAT.npy')\n",
    "WEAK_GLOBAL_ERRORS_MAT = jnp.load(f'{prefix}_WEAK_GLOBAL_ERRORS_MAT.npy')\n",
    "\n",
    "np.savetxt(f'{prefix}_STRONG_GLOBAL_ERRORS.csv', STRONG_GLOBAL_ERRORS.T, delimiter=',', header='deltas,errors', comments=\"\")\n",
    "np.savetxt(f'{prefix}_STRONG_LOCAL_ERRORS.csv', STRONG_LOCAL_ERRORS.T, delimiter=',', header='deltas,errors', comments=\"\")\n",
    "np.savetxt(f'{prefix}_WEAK_GLOBAL_ERRORS.csv', WEAK_GLOBAL_ERRORS.T, delimiter=',', header='deltas,errors', comments=\"\")\n",
    "\n",
    "np.savetxt(f'{prefix}_STRONG_GLOBAL_ERRORS_MAT.csv', STRONG_GLOBAL_ERRORS_MAT.T, delimiter=',', header='deltas,errors', comments=\"\")\n",
    "np.savetxt(f'{prefix}_STRONG_LOCAL_ERRORS_MAT.csv', STRONG_LOCAL_ERRORS_MAT.T, delimiter=',', header='deltas,errors', comments=\"\")\n",
    "np.savetxt(f'{prefix}_WEAK_GLOBAL_ERRORS_MAT.csv', WEAK_GLOBAL_ERRORS_MAT.T, delimiter=',', header='deltas,errors', comments=\"\")\n",
    "#np.savetxt(f'{prefix}_WEAK_GLOBAL_ERRORS_P1GroundTruth.csv', WEAK_GLOBAL_ERRORS_P1GroundTruth.T, delimiter=',', header='deltas,errors', comments=\"\")"
   ],
   "metadata": {
    "collapsed": false,
    "ExecuteTime": {
     "end_time": "2024-06-23T15:48:30.627867Z",
     "start_time": "2024-06-23T15:48:30.611321Z"
    }
   },
   "id": "b3d1da4d1861163e",
   "execution_count": 23,
   "outputs": []
  },
  {
   "cell_type": "code",
   "source": [
    "###############\n",
    "# Sample path #\n",
    "###############\n",
    "\n",
    "plt.plot(paths_1[10]) # Approximation\n",
    "plt.plot(paths_2[10]) # Fine solution."
   ],
   "metadata": {
    "collapsed": false,
    "ExecuteTime": {
     "end_time": "2024-06-23T15:15:14.419069Z",
     "start_time": "2024-06-23T15:15:14.183744Z"
    }
   },
   "id": "28c7579cdf132310",
   "execution_count": 19,
   "outputs": []
  },
  {
   "cell_type": "code",
   "source": [
    "###################\n",
    "# Mean trajectory #\n",
    "###################\n",
    "plt.plot(jnp.mean(paths_2, axis=0))\n",
    "\n",
    "plt.plot(jnp.mean(paths_1, axis=0))"
   ],
   "metadata": {
    "collapsed": false,
    "ExecuteTime": {
     "end_time": "2024-06-06T13:26:09.305094Z",
     "start_time": "2024-06-06T13:26:09.006663Z"
    }
   },
   "id": "eb125851aee8257f",
   "execution_count": 66,
   "outputs": []
  },
  {
   "cell_type": "code",
   "source": [
    "ts = jnp.insert(jnp.linspace(1/1024, 1, 1024),0,0)\n",
    "np.savetxt(f'{prefix}_correct_mean_first.csv', jnp.array([ts, jnp.mean(paths_2[:,:,0], axis=0)]).T, delimiter=',', header='t,mean', comments=\"\")\n",
    "np.savetxt(f'{prefix}_correct_mean_secnd.csv', jnp.array([ts, jnp.mean(paths_2[:,:,1], axis=0)]).T, delimiter=',', header='t,mean', comments=\"\")\n",
    "np.savetxt(f'{prefix}_incorrect_mean_first.csv', jnp.array([ts, jnp.mean(paths_1[:,:,0], axis=0)]).T, delimiter=',', header='t,mean', comments=\"\")\n",
    "np.savetxt(f'{prefix}_incorrect_mean_secnd.csv', jnp.array([ts, jnp.mean(paths_1[:,:,1], axis=0)]).T, delimiter=',', header='t,mean', comments=\"\")"
   ],
   "metadata": {
    "collapsed": false,
    "ExecuteTime": {
     "end_time": "2024-06-06T13:26:14.084759Z",
     "start_time": "2024-06-06T13:26:12.119580Z"
    }
   },
   "id": "c34bcac1f6e20bc5",
   "execution_count": 67,
   "outputs": []
  },
  {
   "cell_type": "code",
   "execution_count": null,
   "source": [
    "plt.plot(ts, paths_2[0,:,0], label='correct mean first')\n",
    "plt.plot(ts, paths_2[0,:,1], label='correct mean second')"
   ],
   "metadata": {
    "collapsed": false
   },
   "id": "8d35095da482cbce",
   "outputs": []
  },
  {
   "cell_type": "code",
   "execution_count": null,
   "source": [
    "np.savetxt(f'{prefix}_path_0.csv', jnp.array([ts, paths_2[0,:,0]]).T, delimiter=',', header='t,mean', comments=\"\")\n",
    "np.savetxt(f'{prefix}_path_1.csv', jnp.array([ts, paths_2[0,:,1]]).T, delimiter=',', header='t,mean', comments=\"\")"
   ],
   "metadata": {
    "collapsed": false
   },
   "id": "e429a40a6ffcb6ae",
   "outputs": []
  },
  {
   "cell_type": "code",
   "execution_count": 7,
   "source": [
    "import pandas as pd\n",
    "\n",
    "solver_name = \"EKF1_SSM\"\n",
    "problem_name = \"FHN\"\n",
    "prefix = f\"{solver_name}_{problem_name}\"\n",
    "folder = \"./EKF1_FHN\"\n",
    "\n",
    "print(prefix)\n",
    "#res_global_error = pd.read_csv(f'{folder}/{prefix}_STRONG_GLOBAL_ERRORS.csv', index_col=False, header=0)\n",
    "#res_local_error = pd.read_csv(f'{folder}/{prefix}_STRONG_LOCAL_ERRORS.csv', index_col=False, header=0)\n",
    "res_weak_error = pd.read_csv(f'{folder}/{prefix}_WEAK_GLOBAL_ERRORS.csv', index_col=False, header=0)\n",
    "\n"
   ],
   "metadata": {
    "collapsed": false
   },
   "id": "e9153b94e6340fbf",
   "outputs": []
  },
  {
   "cell_type": "code",
   "execution_count": null,
   "source": [
    "def summary(df):\n",
    "    regr = LinearRegression()\n",
    "    X = jnp.log(df.deltas.values).reshape(6, 1)\n",
    "    Y = jnp.log(df.errors.values).reshape(6,1)\n",
    "    regr.fit(X, Y)\n",
    "    var_ = jnp.sqrt(1/4*jnp.sum((regr.predict(X)-Y)**2,axis=0))\n",
    "    return regr.coef_, regr.intercept_, var_, regr.score(X, Y)\n",
    "#print('STRONG LOCAL')\n",
    "#print(summary(res_local_error))\n",
    "#print('STRONG GLOBAL')\n",
    "#print(summary(res_global_error))\n",
    "print('WEAK GLOBAL')\n",
    "print(summary(res_weak_error))"
   ],
   "metadata": {
    "collapsed": false
   },
   "id": "8deb89b10bc86bcc",
   "outputs": []
  },
  {
   "cell_type": "code",
   "source": [
    "plt.plot(paths_1[10][:,0]-paths_2[10][:,0], label='em')\n",
    "plt.plot(paths_1[10][:,0]-paths_3[10][:,0], label='ioup')\n",
    "plt.legend()"
   ],
   "metadata": {
    "collapsed": false,
    "ExecuteTime": {
     "end_time": "2024-06-06T13:40:21.877690Z",
     "start_time": "2024-06-06T13:40:21.634749Z"
    }
   },
   "id": "27a3fefca3682b37",
   "execution_count": 84,
   "outputs": []
  },
  {
   "metadata": {
    "ExecuteTime": {
     "end_time": "2024-06-06T13:40:06.616889Z",
     "start_time": "2024-06-06T13:40:06.435787Z"
    }
   },
   "cell_type": "code",
   "source": "plt.plot(paths_3[10][:,1])",
   "id": "7263272565e79ad",
   "execution_count": 82,
   "outputs": []
  },
  {
   "metadata": {
    "ExecuteTime": {
     "end_time": "2024-06-06T13:42:24.364993Z",
     "start_time": "2024-06-06T13:42:24.345463Z"
    }
   },
   "cell_type": "code",
   "source": "(paths_1[:,:,0] - paths_2[:,:,0]).shape",
   "id": "5d69631a8d4d2662",
   "execution_count": 94,
   "outputs": []
  },
  {
   "metadata": {
    "ExecuteTime": {
     "end_time": "2024-06-06T13:41:40.335643Z",
     "start_time": "2024-06-06T13:41:40.330505Z"
    }
   },
   "cell_type": "code",
   "source": "paths_1",
   "id": "55ef456a853f6cf8",
   "execution_count": 89,
   "outputs": []
  },
  {
   "metadata": {
    "ExecuteTime": {
     "end_time": "2024-06-06T13:43:25.877004Z",
     "start_time": "2024-06-06T13:43:25.853987Z"
    }
   },
   "cell_type": "code",
   "source": "jnp.log(jnp.mean(jnp.linalg.norm(paths_1[:,:,0] - paths_2[:,:,0], axis=-1), axis=0))",
   "id": "6ab938eac4972538",
   "execution_count": 100,
   "outputs": []
  },
  {
   "metadata": {
    "ExecuteTime": {
     "end_time": "2024-06-06T13:43:52.692319Z",
     "start_time": "2024-06-06T13:43:52.443708Z"
    }
   },
   "cell_type": "code",
   "source": [
    "plt.plot(ts, jnp.log(jnp.mean(jnp.linalg.norm(paths_1[:,:,0] - paths_2[:,:,0], axis=-1), axis=0)) / jnp.log(delta),\n",
    "             label=f'delta={delta}, M={M}')"
   ],
   "id": "ff070bd7cf79f94a",
   "execution_count": 102,
   "outputs": []
  },
  {
   "metadata": {
    "ExecuteTime": {
     "end_time": "2024-06-06T13:44:20.542660Z",
     "start_time": "2024-06-06T13:44:20.522774Z"
    }
   },
   "cell_type": "code",
   "source": "jnp.linalg.norm(paths_1[:,:,0] - paths_2[:,:,0], axis=0).shape",
   "id": "85645d3fb353565d",
   "execution_count": 104,
   "outputs": []
  },
  {
   "metadata": {
    "ExecuteTime": {
     "end_time": "2024-06-06T13:45:34.967185Z",
     "start_time": "2024-06-06T13:45:34.946034Z"
    }
   },
   "cell_type": "code",
   "source": "jnp.mean(jnp.linalg.norm(paths_1 - paths_2, axis=-1), axis=0).shape",
   "id": "ad2a0442f13020e5",
   "execution_count": 105,
   "outputs": []
  },
  {
   "metadata": {
    "ExecuteTime": {
     "end_time": "2024-06-06T13:46:38.395225Z",
     "start_time": "2024-06-06T13:46:38.345066Z"
    }
   },
   "cell_type": "code",
   "source": "jnp.mean(jnp.abs(paths_1[:,:,0] - paths_2[:,:,0]), axis=-1)",
   "id": "42b4b90b121d0952",
   "execution_count": 109,
   "outputs": []
  },
  {
   "metadata": {},
   "cell_type": "code",
   "execution_count": null,
   "source": "",
   "id": "1427b9785a26d2d5",
   "outputs": []
  }
 ],
 "metadata": {
  "kernelspec": {
   "display_name": "Python 3 (ipykernel)",
   "language": "python",
   "name": "python3"
  },
  "language_info": {
   "codemirror_mode": {
    "name": "ipython",
    "version": 3
   },
   "file_extension": ".py",
   "mimetype": "text/x-python",
   "name": "python",
   "nbconvert_exporter": "python",
   "pygments_lexer": "ipython3",
   "version": "3.8.10"
  }
 },
 "nbformat": 4,
 "nbformat_minor": 5
}
